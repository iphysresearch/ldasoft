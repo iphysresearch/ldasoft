{
 "cells": [
  {
   "cell_type": "markdown",
   "metadata": {},
   "source": [
    "# Exploring GBMCMC Outputs in Jupyter & PANDAS"
   ]
  },
  {
   "cell_type": "markdown",
   "metadata": {},
   "source": [
    "## Introduction\n",
    "This notebook provides a skeleton example for exploring processed outputs of the GBMCMC code.  To use this notebook, GBMCMC outputs must first be processed through the catalog maker step and then into a set of HDF5 files using the script `build_pandas_catalog.py` located in `/scripts`.  For further information on `build_pandas_catalog.py`, please consult the inline help."
   ]
  },
  {
   "cell_type": "markdown",
   "metadata": {},
   "source": [
    "### The Data\n",
    "The output of `build_pandas_catalog.py` is a set of HDF5 files containing several PANDAS dataframes.  These consist of a primary file (e.g. `mycatalog.h5`) as well as one or more auxilliary files with related names (e.g. `mycatalog_chains_100s.h5`).  The primary file contains three dataframes: `metadata` contains information about the catalog, `detections` contains point-estimates of the catalog entries, and `spectrum` which contains frequency-series information about the data, model, residuals, noise estimates, etc.  The auxilliary files contain MCMC parameter chains for the identified entries in the catalog, allowing for deeper-dive analysis into a particular source.  For size reasons, they are grouped by frequency segment in the GBMCMC outputs with a separate file for each 100 frequency segments."
   ]
  },
  {
   "cell_type": "markdown",
   "metadata": {},
   "source": [
    "## Initialization\n",
    "Load the various modules/packages required for this notebook and define local functions"
   ]
  },
  {
   "cell_type": "markdown",
   "metadata": {},
   "source": [
    "### Modules"
   ]
  },
  {
   "cell_type": "code",
   "execution_count": null,
   "metadata": {},
   "outputs": [],
   "source": [
    "# Import modules\n",
    "import os\n",
    "import glob\n",
    "import pandas as pd\n",
    "import corner as corner\n",
    "import numpy as np    \n",
    "from mpl_toolkits.mplot3d import Axes3D\n",
    "import matplotlib.pyplot as plt\n",
    "from matplotlib.patches import Ellipse\n",
    "import matplotlib.transforms as transforms\n",
    "import matplotlib.colors as colors\n",
    "import matplotlib.cm as cm\n",
    "import lisacattools as lisacat\n",
    "#import corner\n",
    "%matplotlib inline"
   ]
  },
  {
   "cell_type": "markdown",
   "metadata": {},
   "source": [
    "## Locate catalogs and examine meta data\n",
    "Each catalog corresponds to a particular observation duration and is contained in a single HDF5 file.  The HDF5 file contains several pandas data frames, one of which is called _metadata_ and it contains metadata about the catalog.  Here we search through the directory and get the list of catalogs and their meta data.  Here the metadata is the observation time and the parent catalog (used for tracing the lineage of particular sources from catalog to catalog)"
   ]
  },
  {
   "cell_type": "code",
   "execution_count": null,
   "metadata": {},
   "outputs": [],
   "source": [
    "plotPath = ''  # INSERT YOUR DESIRED DIRECTORY FOR PLOT OUTPUTS HERE\n",
    "catFiles = [ '',''] #INSERT LIST OF ONE OR MORE PRIMARY CATALOG FILES from build_pandas_catalogs.py\n",
    "dfs = list()\n",
    "\n",
    "# Read metadata from each catalog, store the location of the file on your local system, and sort by observation time\n",
    "for catFile in catFiles:\n",
    "    df = pd.read_hdf(catFile, key = 'metadata')\n",
    "    df['location'] = catFile\n",
    "    dfs.append(df) \n",
    "meta  = pd.concat(dfs)\n",
    "meta = meta.sort_values(by='Observation Time')\n",
    "meta"
   ]
  },
  {
   "cell_type": "markdown",
   "metadata": {},
   "source": [
    "### Using the source point estimates in a catalog\n",
    "Each catalog also contains a list of _detections_ (candidate sources) with estimates for the parameters in a dataframe called `detections`. Each source is indexed by a name (which corresponds to the median frequency) and has a list of parameter estimates. In addition, the SNR, Bayesian evidence, and frequency segment (internal parameter from the GBMCMC search code) are included for each detection. For catalogs with a parent catalog, a source identified as a parent source in that catalog is listed, if present."
   ]
  },
  {
   "cell_type": "code",
   "execution_count": null,
   "metadata": {},
   "outputs": [],
   "source": [
    "# load the point estimates from the `detections` dataframe\n",
    "catIdx = 0  # Select which catalog from your list you want to examine\n",
    "catPath = os.path.split(catFiles[catIdx])[0]\n",
    "catRoot = os.path.split(os.path.splitext(catFiles[catIdx])[0])[1] # string for naming plots\n",
    "catFile = meta.iloc[catIdx]['location']\n",
    "cat = pd.read_hdf(catFile, key='detections')\n",
    "cat[['SNR','parent','Frequency','Frequency Derivative','Amplitude','Ecliptic Longitude','Ecliptic Latitude','Polarization','Inclination','Initial Phase']].head()"
   ]
  },
  {
   "cell_type": "code",
   "execution_count": null,
   "metadata": {},
   "outputs": [],
   "source": [
    "# The describe() method provides some basic statistics on the catalog, including number of sources, parameter statistics, etc.\n",
    "cat.describe()"
   ]
  },
  {
   "cell_type": "code",
   "execution_count": null,
   "metadata": {},
   "outputs": [],
   "source": [
    "# Plots can be made directly from the data, such as this histogram of SNRs\n",
    "fig = plt.figure(figsize = [20,6],dpi=100)\n",
    "ax = plt.axes()\n",
    "cat['SNR'].plot(kind='hist', ax = ax,grid = True, bins=100,figsize=[12,8])\n",
    "plt.xlabel('SNR',fontsize=12)\n",
    "plt.ylabel('Count',fontsize=12)\n",
    "plt.title('SNR Distribution for %i sources in %s' % (len(cat),meta.index[catIdx]),fontsize=12)\n",
    "fig.savefig('%s/%s_SNR_hist.png' % (plotPath,catRoot))"
   ]
  },
  {
   "cell_type": "code",
   "execution_count": null,
   "metadata": {},
   "outputs": [],
   "source": [
    "# Another example of is a 2-D scatter plot, such as frequency-amplitude \n",
    "fig = plt.figure(figsize=(12, 6), dpi = 100)\n",
    "ax = plt.axes()\n",
    "\n",
    "plt.yscale('log')\n",
    "plt.xscale('log')\n",
    "plt.xlim([1e-4,1e-1])\n",
    "plt.ylim([1e-24,1e-20])\n",
    "ax.tick_params(axis = 'both', which = 'major', labelsize = 12)\n",
    "\n",
    "plt.title('Point estimates for %i sources found in catalog %s' % (len(cat), meta.index[catIdx]),fontsize=18)\n",
    "\n",
    "cNorm = colors.LogNorm(vmin=cat['SNR'].min(), vmax=cat['SNR'].max()) #re-wrapping normalization\n",
    "scalarMap = cm.ScalarMappable(norm=cNorm, cmap=plt.cm.get_cmap('cool'))\n",
    "\n",
    "cat.plot(\n",
    "    kind='scatter', \n",
    "    x='Frequency', \n",
    "    y='Amplitude',  \n",
    "    marker = '.',\n",
    "    c = scalarMap.to_rgba(np.array(cat['SNR'])),\n",
    "    ax = ax);\n",
    "\n",
    "ax.grid()\n",
    "plt.xlabel('Frequency [Hz]',fontsize=14)\n",
    "plt.ylabel('Strain Amplitude',fontsize=14)\n",
    "\n",
    "f = np.logspace(-4,0,512)\n",
    "ax.plot(f,lisacat.getSciRD(f,np.float(meta.iloc[catIdx]['Observation Time'])), color='k')\n",
    "\n",
    "ax.legend(['Instrument Sensitivity','resolved GBs'],fontsize=14)\n",
    "\n",
    "cbar = fig.colorbar(scalarMap)\n",
    "cbar.set_label('SNR',fontsize=14)\n",
    "plt.show()\n",
    "fig.savefig('%s/%s_strain.png' % (plotPath,catRoot))"
   ]
  },
  {
   "cell_type": "markdown",
   "metadata": {},
   "source": [
    "## Frequency-series data"
   ]
  },
  {
   "cell_type": "code",
   "execution_count": null,
   "metadata": {},
   "outputs": [],
   "source": [
    "# load the HDF5 file containing the Pandas data frame with all of the frequency-series data from the GBMCMC run. \n",
    "# This dataframe was constructed by looping through all of the output directories of the GBMCMC run\n",
    "catIdx = 0  # Select which catalog from your list you want to examine\n",
    "catPath = os.path.split(catFiles[catIdx])[0]\n",
    "catRoot = os.path.split(os.path.splitext(catFiles[catIdx])[0])[1] # string for naming plots\n",
    "catFile = meta.iloc[catIdx]['location']\n",
    "fdf = pd.read_hdf(catFile, key='spectrum')\n",
    "fdf.sort_values('Frequency',inplace=True)\n",
    "fdf.describe()"
   ]
  },
  {
   "cell_type": "code",
   "execution_count": null,
   "metadata": {},
   "outputs": [],
   "source": [
    "# input data is in real/imag.  Convert to power so we can compare with the noise\n",
    "fdf['A data power']= np.power(fdf['Real A data'],2)+np.power(fdf['Imag A data'],2)\n",
    "fdf['E data power']= np.power(fdf['Real E data'],2)+np.power(fdf['Imag E data'],2)"
   ]
  },
  {
   "cell_type": "code",
   "execution_count": null,
   "metadata": {},
   "outputs": [],
   "source": [
    "# plot power residual for A channel\n",
    "fig = plt.figure(figsize = [12,8],dpi=100)\n",
    "ax = plt.axes()\n",
    "fdf.plot(x='Frequency',y='A data power',ax = ax)\n",
    "fdf.plot(x='Frequency',y='Median A residual',ax = ax)\n",
    "fdf.plot(x='Frequency',y='Median AE noise',ax=ax)\n",
    "plt.xlabel('Frequency [Hz]')\n",
    "plt.ylabel('Fractional Frequency PSD [1/Hz]')\n",
    "plt.yscale('log')\n",
    "plt.xscale('log')\n",
    "plt.xlim([1e-4,3e-2])\n",
    "ax.grid(True)\n",
    "plt.title('Power spectra for TDI A channel in %s' % meta.index[catIdx],fontsize=18)\n",
    "fig.savefig('%s/%s_A_power.png' % (plotPath,catRoot))\n",
    "\n",
    "# plot power residual for E channel\n",
    "fig = plt.figure(figsize = [12,8],dpi=100)\n",
    "ax = plt.axes()\n",
    "fdf.plot(x='Frequency',y='E data power',ax = ax)\n",
    "fdf.plot(x='Frequency',y='Median E residual',ax = ax)\n",
    "fdf.plot(x='Frequency',y='Median AE noise',ax=ax)\n",
    "plt.xlabel('Frequency [Hz]')\n",
    "plt.ylabel('Fractional Frequency PSD [1/Hz]')\n",
    "plt.yscale('log')\n",
    "plt.xscale('log')\n",
    "plt.xlim([1e-4,3e-2])\n",
    "ax.grid(True)\n",
    "plt.title('Power spectra for TDI E channel in %s' % meta.index[catIdx],fontsize=18)\n",
    "fig.savefig('%s/%s_E_power.png' % (plotPath,catRoot))"
   ]
  },
  {
   "cell_type": "markdown",
   "metadata": {},
   "source": [
    "### Working with Individual Chain Data\n",
    "Each of the auxilliary HDF5 files contains the MCMC chains (burn-in removed) for each of the detected sources as pandas data frames. They are identified in the HDF5 file by the key `<SOURCENAME>_chain` where `<SOURCENAME>` is the name of the source in the catalog of detections"
   ]
  },
  {
   "cell_type": "code",
   "execution_count": null,
   "metadata": {},
   "outputs": [],
   "source": [
    "# pick out the median SNR source\n",
    "catIdx = 0  # Select which catalog from your list you want to examine\n",
    "catPath = os.path.split(catFiles[catIdx])[0]\n",
    "catRoot = os.path.split(os.path.splitext(catFiles[catIdx])[0])[1] # string for naming plots\n",
    "catFile = meta.iloc[catIdx]['location']\n",
    "cat = pd.read_hdf(catFile, key='detections')\n",
    "sourceIdx = cat.index.values[np.argmin(np.abs(np.array(cat['SNR'])-cat['SNR'].median()))]\n",
    "cat.loc[[sourceIdx]]"
   ]
  },
  {
   "cell_type": "code",
   "execution_count": null,
   "metadata": {},
   "outputs": [],
   "source": [
    "# read in the chain samples for this source\n",
    "source = lisacat.getChain(cat,sourceIdx,catPath)\n",
    "source.head()"
   ]
  },
  {
   "cell_type": "code",
   "execution_count": null,
   "metadata": {},
   "outputs": [],
   "source": [
    "# Statistics on the chain samples provide some view of the parameter distributions\n",
    "source.describe()"
   ]
  },
  {
   "cell_type": "code",
   "execution_count": null,
   "metadata": {},
   "outputs": [],
   "source": [
    "# Plotting the chains versus MCMC sample gives a quick picture as to whether they are converged, etc. \n",
    "source[['Frequency','Amplitude','Frequency Derivative','Ecliptic Longitude','Ecliptic Latitude','Inclination','Initial Phase','Polarization']].plot(\n",
    "    kind='line',\n",
    "    subplots = True, \n",
    "    layout=[4,2], \n",
    "    figsize=[12,10]);\n",
    "fig = plt.gcf()\n",
    "fig.suptitle('MCMC chains for %s' % sourceIdx)\n",
    "fig.savefig('%s/%s_chains.png' % (plotPath,sourceIdx))"
   ]
  },
  {
   "cell_type": "code",
   "execution_count": null,
   "metadata": {},
   "outputs": [],
   "source": [
    "# You can get a correlation table as well to pick out correlations in parameters \n",
    "source.corr()"
   ]
  },
  {
   "cell_type": "code",
   "execution_count": null,
   "metadata": {},
   "outputs": [],
   "source": [
    "# Or you can do this in a corner plot\n",
    "fig = corner.corner(\n",
    "    source[['Frequency',\n",
    "            'Amplitude',\n",
    "            'Frequency Derivative',\n",
    "            'Ecliptic Longitude',\n",
    "            'Ecliptic Latitude']],\n",
    "            quantiles=(0.16, 0.84));\n",
    "fig.suptitle('Corner plot for %s' % sourceIdx)\n",
    "fig.savefig('%s/%s_corner.png' % (plotPath,sourceIdx))"
   ]
  },
  {
   "cell_type": "code",
   "execution_count": null,
   "metadata": {},
   "outputs": [],
   "source": [
    "# do a comparison of the error ellipse and points and make a nice scatter plot\n",
    "lisacat.getGalcoord(source) # convert to galactic coordinates\n",
    "fig = plt.figure(figsize=(8, 6), dpi = 100)\n",
    "ax = plt.axes()\n",
    "ax.grid()\n",
    "\n",
    "a =  lisacat.ellipse_area(source[['Galactic Longitude','Galactic Latitude']])\n",
    "source.plot(kind='scatter',x='Galactic Longitude',y='Galactic Latitude',ax=ax,grid=True,marker='.')\n",
    "lisacat.confidence_ellipse(source[['Galactic Longitude','Galactic Latitude']], \n",
    "                       ax, \n",
    "                       n_std = 1.0, \n",
    "                       edgecolor='orange',\n",
    "                       linewidth = 2.0)\n",
    "lisacat.confidence_ellipse(source[['Galactic Longitude','Galactic Latitude']], \n",
    "                       ax, \n",
    "                       n_std = 2.0, \n",
    "                       edgecolor='orange',\n",
    "                       linestyle = '--',\n",
    "                       linewidth = 2.0)\n",
    "lisacat.confidence_ellipse(source[['Galactic Longitude','Galactic Latitude']], \n",
    "                       ax, \n",
    "                       n_std = 3.0, \n",
    "                       edgecolor='orange',\n",
    "                       linestyle=':',\n",
    "                       linewidth = 2.0)\n",
    "\n",
    "plt.xlabel('Galactic Longitude [deg]')\n",
    "plt.ylabel('Galactic Latitude [deg]')\n",
    "plt.title('Sky Localization for %s: 90%% region of %3.1f deg^2' % (sourceIdx,a))\n",
    "ax.legend(('1 sigma','2 sigma', '3 sigma','MCMC samples'))\n",
    "#fig.savefig('%s/%s_localization.png' % (plotPath,sourceIdx))"
   ]
  },
  {
   "cell_type": "markdown",
   "metadata": {},
   "source": [
    "### Adding derived parameters from the chains\n",
    "In some cases, it might be desirable to estimate some addiitonal parameter from the chains, such as luminosity distance"
   ]
  },
  {
   "cell_type": "code",
   "execution_count": null,
   "metadata": {},
   "outputs": [],
   "source": [
    "# The get_DL function defined in lisacattools computes luminosity distance for each sample in the chain and adds it as a column\n",
    "lisacat.get_DL(source)\n",
    "source.describe()"
   ]
  },
  {
   "cell_type": "code",
   "execution_count": null,
   "metadata": {},
   "outputs": [],
   "source": [
    "# histogram of luminosity distance\n",
    "fig = plt.figure(figsize = [10,6],dpi=100)\n",
    "ax = plt.axes()\n",
    "source['Luminosity Distance'].hist(bins=50,ax=ax,grid=True)\n",
    "plt.xlabel('DL [kpc]')\n",
    "plt.ylabel('Count')\n",
    "plt.title('Luminosity distance distribution for %s' % sourceIdx)\n",
    "fig.savefig('%s/%s_Dlhist.png' % (plotPath,sourceIdx))"
   ]
  },
  {
   "cell_type": "code",
   "execution_count": null,
   "metadata": {},
   "outputs": [],
   "source": [
    "# Adding Cartesian coordinates and looking at the subpart of parameter space relative to localization\n",
    "source['X']=source['Luminosity Distance']*np.cos(source['Galactic Latitude'])*np.cos(source['Galactic Longitude'])\n",
    "source['Y']=source['Luminosity Distance']*np.cos(source['Galactic Latitude'])*np.sin(source['Galactic Longitude'])\n",
    "source['Z'] = source['Luminosity Distance']*np.sin(source['Galactic Latitude'])\n",
    "fig = corner.corner(\n",
    "    source[['X',\n",
    "            'Y',\n",
    "            'Z']],\n",
    "            quantiles=(0.16, 0.84));\n",
    "fig.suptitle('Cartesian Localization Corner plot for %s' % sourceIdx)\n",
    "fig.savefig('%s/%s_local_corner_cart.png' % (plotPath,sourceIdx))"
   ]
  },
  {
   "cell_type": "markdown",
   "metadata": {},
   "source": [
    "### Extending the catalog - sky area\n",
    "In some cases, it might be useful to add additional columns to the catalog from derived parameters.  Here we use sky localization as an example"
   ]
  },
  {
   "cell_type": "code",
   "execution_count": null,
   "metadata": {},
   "outputs": [],
   "source": [
    "catIdx = 0  # Select which catalog from your list you want to examine\n",
    "catPath = os.path.split(catFiles[catIdx])[0]\n",
    "catRoot = os.path.split(os.path.splitext(catFiles[catIdx])[0])[1] # string for naming plots\n",
    "catFile = meta.iloc[catIdx]['location']\n",
    "cat = pd.read_hdf(catFile, key='detections')\n",
    "# loop through all of the cases, get the area, and add as a column to the catalog \n",
    "areas = np.empty(len(cat))\n",
    "sources = list(cat.index)\n",
    "for idx,source in enumerate(sources):\n",
    "    df = lisacat.getChain(cat,source,catPath)\n",
    "    lisacat.getGalcoord(df)\n",
    "    areas[idx] = lisacat.ellipse_area(df[['Galactic Longitude','Galactic Latitude']])\n",
    "\n",
    "cat.insert(len(cat.columns),'Sky Area',areas,True)\n",
    "cat.head()"
   ]
  },
  {
   "cell_type": "code",
   "execution_count": null,
   "metadata": {},
   "outputs": [],
   "source": [
    "# Histogram of Sky Areas\n",
    "fig = plt.figure(figsize = [20,6],dpi=100)\n",
    "ax = plt.axes()\n",
    "cat['Sky Area'].plot(kind='hist', ax = ax,grid = True, bins=100,figsize=[12,8])\n",
    "plt.xlabel('Sky Area[deg^2]')\n",
    "plt.ylabel('Count')\n",
    "plt.title('90%% Sky Area Distribution for %i sources in %s' % (len(cat), meta.index[catIdx]))\n",
    "fig.savefig('%s/%s_skyarea_hist.png' % (plotPath,catRoot))"
   ]
  },
  {
   "cell_type": "code",
   "execution_count": null,
   "metadata": {},
   "outputs": [],
   "source": [
    "# Make a cut to find \"well-localized\" events\n",
    "athresh = 1000;\n",
    "cat_loc = cat[(cat['Sky Area']<athresh)]\n",
    "cat_loc.describe()"
   ]
  },
  {
   "cell_type": "code",
   "execution_count": null,
   "metadata": {},
   "outputs": [],
   "source": [
    "# Plot the elipses for all the well-localized sources in the catalog\n",
    "# set up the figure\n",
    "fig = plt.figure(figsize=(12, 6), dpi = 100)\n",
    "ax = plt.axes()#projection='astro degrees mollweide')\n",
    "ax.grid()\n",
    "\n",
    "plt.xlim(-180,180)\n",
    "plt.ylim(-90,90)\n",
    "plt.xlabel('Galactic Longitude')\n",
    "plt.ylabel('Galactic Latitude')\n",
    " \n",
    "cNorm = colors.Normalize(vmin=cat_loc['Frequency'].min()*1e3, vmax=cat_loc['Frequency'].max()*1e3) #re-wrapping normalization\n",
    "scalarMap = cm.ScalarMappable(norm=cNorm, cmap=plt.cm.get_cmap('gist_rainbow'))\n",
    "\n",
    "sources = list(cat_loc.index)\n",
    "for source in sources:\n",
    "    df = lisacat.getChain(cat,source,catPath)\n",
    "    lisacat.getGalcoord(df)\n",
    "    #a = lisacat.ellipse_area(df[['Galactic Longitude','Galactic Latitude']])\n",
    "    m = np.array(df[['Galactic Longitude','Galactic Latitude']].mean())\n",
    "    lisacat.confidence_ellipse(df[['Galactic Longitude','Galactic Latitude']], \n",
    "                       ax, \n",
    "                       n_std = 1.0, \n",
    "                       edgecolor=scalarMap.to_rgba(1e3*np.array(cat_loc.loc[source].Frequency)),\n",
    "                       linewidth = 1.0)\n",
    "                       \n",
    "                       \n",
    "plt.title('Localization for %i sources in catalog %s with sky area < %i deg^2' % (len(cat_loc),meta.index[catIdx],athresh))\n",
    "cbar = fig.colorbar(scalarMap)\n",
    "cbar.set_label('Frequency [mHz]')\n",
    "plt.show()\n",
    "fig.savefig('%s/%s_skymap_good.png' % (plotPath,catRoot))\n"
   ]
  },
  {
   "cell_type": "markdown",
   "metadata": {},
   "source": [
    "## Comparing Catalogs\n",
    "It is possible to load multiple catalogs (e.g. from different epochs) and cross-compare"
   ]
  },
  {
   "cell_type": "code",
   "execution_count": null,
   "metadata": {},
   "outputs": [],
   "source": [
    "# Here we load each catalog into a dictionary using the catalog names as a key\n",
    "allCats = dict()\n",
    "for idx in range(0,len(meta)):\n",
    "    allCats[meta.index[idx]]= pd.read_hdf(meta.iloc[idx]['location'], key='detections')"
   ]
  },
  {
   "cell_type": "code",
   "execution_count": null,
   "metadata": {},
   "outputs": [],
   "source": [
    "# You can access a particular catalog by its name\n",
    "allCats['INSERT_NAME_HERE'].describe() "
   ]
  },
  {
   "cell_type": "code",
   "execution_count": null,
   "metadata": {},
   "outputs": [],
   "source": [
    "# Comparison of SNRs\n",
    "fig = plt.figure(figsize = [8,6],dpi=100)\n",
    "ax = fig.add_subplot(111)\n",
    "pcolors = ['r','b','g','y']\n",
    "pltfile = 'SNR'\n",
    "for cnt,idx in enumerate(list(meta.index)):\n",
    "    allCats[idx]['SNR'].hist(bins=100,color=pcolors[cnt], ax=ax,grid=True,histtype='stepfilled', alpha=0.2,density=False)\n",
    "    pltfile = ('%s_%s' % (pltfile,idx))\n",
    "    \n",
    "ax.set_xlabel('SNR')\n",
    "ax.set_ylabel('Count')\n",
    "plt.legend(meta.index)\n",
    "ax.set_title('SNR comparison between catalogs')\n",
    "fig.savefig('%s/%s.png' % (plotPath,pltfile))"
   ]
  },
  {
   "cell_type": "code",
   "execution_count": null,
   "metadata": {},
   "outputs": [],
   "source": [
    "# Comparison on frequency/amplitude plane \n",
    "fig = plt.figure(figsize=(12, 10), dpi = 100)\n",
    "ax = plt.axes()\n",
    "\n",
    "plt.yscale('log')\n",
    "plt.xscale('log')\n",
    "plt.xlim([1e-4,1e-1])\n",
    "plt.ylim([1e-24,1e-20])\n",
    "ax.tick_params(axis = 'both', which = 'major', labelsize = 12)\n",
    "\n",
    "plt.title('Comparison of catalogs',fontsize=18)\n",
    "\n",
    "pcolors = ['r','b','g','y']\n",
    "pltfile = 'sources'\n",
    "for cnt,idx in enumerate(list(meta.index)):\n",
    "    allCats[idx].plot(\n",
    "        kind='scatter', \n",
    "        x='Frequency', \n",
    "        y='Amplitude',  \n",
    "        marker = '.',\n",
    "        color = pcolors[cnt],\n",
    "        label = idx,\n",
    "        ax = ax);\n",
    "    \n",
    "    \n",
    "    ax.plot(f,lisacat.getSciRD(f,np.array(meta.iloc[cnt]['Observation Time'])), color=pcolors[cnt],linestyle='--', label = ('%0.0f mo sensitivity' % (np.array(meta.iloc[cnt]['Observation Time'])/(30.5*86400))))\n",
    "\n",
    "    pltfile = ('%s_%s' % (pltfile, idx))\n",
    "\n",
    "\n",
    "\n",
    "ax.grid()\n",
    "plt.xlabel('Frequency [Hz]',fontsize=14)\n",
    "plt.ylabel('Strain Amplitude',fontsize=14)\n",
    "\n",
    "f = np.logspace(-4,0,512)\n",
    "\n",
    "ax.legend(fontsize=14)\n",
    "\n",
    "fig.savefig('%s/%s.png' % (plotPath,pltfile))"
   ]
  },
  {
   "cell_type": "markdown",
   "metadata": {},
   "source": [
    "## Comparing sources across catalogs\n",
    "In some cases, it may be interesting to compare sources across catalogs. For example, we might want to see how parameter estimates evolved as we got more data"
   ]
  },
  {
   "cell_type": "code",
   "execution_count": null,
   "metadata": {},
   "outputs": [],
   "source": [
    "catIdx = 1  # Select the catalog that has the source you want to examine\n",
    "catPath = os.path.split(catFiles[catIdx])[0]\n",
    "catRoot = os.path.split(os.path.splitext(catFiles[catIdx])[0])[1] # string for naming plots\n",
    "catFile = meta.iloc[catIdx]['location']\n",
    "cat = pd.read_hdf(catFile, key='detections')\n",
    "# pick out the subset of sources that have identified parents\n",
    "cat = cat[cat['parent']!='']"
   ]
  },
  {
   "cell_type": "code",
   "execution_count": null,
   "metadata": {},
   "outputs": [],
   "source": [
    "# Pick out a source to examine, say the one with the median SNR\n",
    "sourceIdx = cat.index.values[np.argmin(np.abs(np.array(cat['SNR'])-cat['SNR'].median()))]\n",
    "cat.loc[[sourceIdx]]"
   ]
  },
  {
   "cell_type": "code",
   "execution_count": null,
   "metadata": {},
   "outputs": [],
   "source": [
    "# Now we load the source data\n",
    "source = lisacat.getChain(cat,sourceIdx,catPath)\n",
    "source.describe()"
   ]
  },
  {
   "cell_type": "code",
   "execution_count": null,
   "metadata": {},
   "outputs": [],
   "source": [
    "# Now we load the parent data from the parent catalog\n",
    "parentCatFile = meta.loc[meta.iloc[catIdx]['parent']]['location']\n",
    "parentCat = pd.read_hdf(parentCatFile, key='detections')\n",
    "parentIdx = cat.loc[sourceIdx,'parent']\n",
    "parentCat.loc[[parentIdx]]"
   ]
  },
  {
   "cell_type": "code",
   "execution_count": null,
   "metadata": {},
   "outputs": [],
   "source": [
    "# and finally load the chain data from the parent catalog\n",
    "parentSource = lisacat.getChain(parentCat,parentIdx, catPath)\n",
    "parentSource.describe()"
   ]
  },
  {
   "cell_type": "code",
   "execution_count": null,
   "metadata": {},
   "outputs": [],
   "source": [
    "# Comparison Corner plots\n",
    "# since there are so many parmeters, we break into intrinsic and extrinsic\n",
    "\n",
    "# intrinsic parameters\n",
    "fig = plt.figure(figsize=(10, 10), dpi = 100)\n",
    "inParams = ['Frequency','Frequency Derivative', 'Amplitude']\n",
    "corner.corner(parentSource[inParams], fig=fig,color='red', plot_datapoints=False, fill_contours=True, bins=50, smooth=1.0, levels=[0.68,0.95], label_kwargs={\"fontsize\": 12});\n",
    "corner.corner(source[inParams], fig=fig,color='blue', plot_datapoints=False, fill_contours=True, bins=50, smooth=1.0, levels=[0.68,0.95], label_kwargs={\"fontsize\": 12});\n",
    "fig.suptitle('Comparison of intrinsic parameters between %s and parent %s' % (sourceIdx,parentIdx))\n",
    "fig.savefig('%s/%s_vs_%s_intrinsic.png' % (plotPath,sourceIdx, parentIdx))\n",
    "\n",
    "# extrinsic parameters\n",
    "fig = plt.figure(figsize=(10, 10), dpi = 100)\n",
    "extParams = ['Ecliptic Latitude','Ecliptic Longitude','Inclination','Initial Phase','Polarization']\n",
    "corner.corner(parentSource[extParams], fig=fig,color='red', plot_datapoints=False, fill_contours=True, bins=50, smooth=1.0, levels=[0.68,0.95], label_kwargs={\"fontsize\": 12});\n",
    "corner.corner(source[extParams], fig=fig,color='blue', plot_datapoints=False, fill_contours=True, bins=50, smooth=1.0, levels=[0.68,0.95], label_kwargs={\"fontsize\": 12});\n",
    "fig.suptitle('Comparison of extrinsic parameters between %s and parent %s' % (sourceIdx,parentIdx))\n",
    "fig.savefig('%s/%s_vs_%s_extrinsic.png' % (plotPath,sourceIdx, parentIdx))\n"
   ]
  },
  {
   "cell_type": "code",
   "execution_count": null,
   "metadata": {},
   "outputs": [],
   "source": []
  }
 ],
 "metadata": {
  "kernelspec": {
   "display_name": "Python 3",
   "language": "python",
   "name": "python3"
  },
  "language_info": {
   "codemirror_mode": {
    "name": "ipython",
    "version": 3
   },
   "file_extension": ".py",
   "mimetype": "text/x-python",
   "name": "python",
   "nbconvert_exporter": "python",
   "pygments_lexer": "ipython3",
   "version": "3.7.5"
  }
 },
 "nbformat": 4,
 "nbformat_minor": 4
}
