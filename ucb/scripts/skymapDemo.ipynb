{
 "cells": [
  {
   "cell_type": "markdown",
   "metadata": {},
   "source": [
    "# SkymmapDemo\n",
    "Demonstration of some skymap operations with GBMCMC pandas data set\n"
   ]
  },
  {
   "cell_type": "code",
   "execution_count": null,
   "metadata": {},
   "outputs": [],
   "source": [
    "# Import modules\n",
    "import os\n",
    "import pandas as pd\n",
    "import numpy as np  \n",
    "import healpy as hp\n",
    "from astropy.coordinates import SkyCoord\n",
    "from astropy import units as u\n",
    "import ligo.skymap.plot\n",
    "import matplotlib.pyplot as plt\n",
    "import lisacattools as lisacat\n",
    "%matplotlib inline"
   ]
  },
  {
   "cell_type": "code",
   "execution_count": null,
   "metadata": {},
   "outputs": [],
   "source": [
    "# Start by loading the main catalog file processed from GBMCMC outputs\n",
    "catFile = '/home/centos/Data/cat15728640_v2.h5'\n",
    "catPath = os.path.split(catFile)[0]\n",
    "cat = pd.read_hdf(catFile, key='detections')\n",
    "cat.head()"
   ]
  },
  {
   "cell_type": "markdown",
   "metadata": {},
   "source": [
    "## Build the all-sky map\n",
    "Run through all the sources and make an all-sky map of all the chain samples \n",
    "can take a while to run, you can save the output to speed things up later using the *recomplie* flag"
   ]
  },
  {
   "cell_type": "code",
   "execution_count": null,
   "metadata": {},
   "outputs": [],
   "source": [
    "\n",
    "recompile = False\n",
    "allSkyFileName = '/home/centos/Data/cat15728640_v2_allSky.h5'\n",
    "if recompile :\n",
    "    cat.sort_values(by='SNR',ascending = False, inplace=True)\n",
    "    sources = list(cat.index)\n",
    "    dfs = list()\n",
    "    for source in sources:\n",
    "        df = lisacat.getChain(cat,source,catPath)\n",
    "        lisacat.getGalcoord(df)\n",
    "        df.insert(len(df.columns),'Source',source,True)\n",
    "        df.insert(len(df.columns),'Chain Length',len(df),True)\n",
    "        dfs.append(df[['Source','Frequency','Frequency Derivative','Amplitude','Galactic Latitude','Galactic Longitude','Chain Length']])\n",
    "\n",
    "    allSources = pd.concat(dfs)\n",
    "    allSources.to_hdf(allSkyFileName,key='sources')\n",
    "else :\n",
    "    allSources = pd.read_hdf(allSkyFileName,key='sources')\n",
    "\n",
    "\n",
    "allSources.describe()"
   ]
  },
  {
   "cell_type": "code",
   "execution_count": null,
   "metadata": {},
   "outputs": [],
   "source": [
    "# bin all the sources in a healpix bin \n",
    "nside = 64\n",
    "lisacat.HPbin(allSources,nside,'Galactic')\n",
    "allSources"
   ]
  },
  {
   "cell_type": "markdown",
   "metadata": {},
   "source": [
    "## Find the Targets\n",
    "Next we find source(s) in a given circle. This will return a dataframe containing a list of sources who have chain samples inside the circle. \n",
    "The list will be ranked by *Probability*, which is the fraction of chain samples that are inside the circle for that particular source.  \n",
    "The parameters for the sources are the median parameters from the samples *inside* the circle (e.g. they are restricted to that sky locaiton).\n",
    "The dataframe selBins is a subset of the full data set corresponding to only that part of the sky, which could be useful for other processing.\n",
    "\n",
    "This may also take a while!"
   ]
  },
  {
   "cell_type": "code",
   "execution_count": null,
   "metadata": {},
   "outputs": [],
   "source": [
    "ra = -95  # right ascension of the circle's center (degrees)\n",
    "dec = -10  # declination of the circle's center (degrees)\n",
    "radius = 5  # radius of the circle (degrees)\n",
    "theta = 0.5*np.pi-np.deg2rad(dec)\n",
    "phi = np.deg2rad(ra)\n",
    "radius = np.deg2rad(radius)\n",
    "xyz = hp.ang2vec(theta,phi)\n",
    "ipix_disc = hp.query_disc(nside,xyz,radius)\n",
    "selBins = allSources[allSources['HEALPix bin'].isin(ipix_disc)]\n",
    "cnts = selBins['Source'].value_counts()\n",
    "df_cnts = pd.DataFrame(cnts)\n",
    "df_cnts.rename(columns={'Source':'Counts'},inplace=True)\n",
    "cutidx = df_cnts[df_cnts['Counts']<100].index\n",
    "df_cnts.drop(index=cutidx,inplace=True)\n",
    "idxs = list(df_cnts.index)\n",
    "srcs = list()\n",
    "for idx in idxs:\n",
    "    meds = selBins[selBins['Source']==idx].median()\n",
    "    meds['Source'] = idx\n",
    "    srcs.append(meds)\n",
    "\n",
    "df_targets = pd.DataFrame(srcs)\n",
    "df_targets.set_index('Source',inplace=True)\n",
    "df_targets = pd.concat([df_targets,df_cnts],1)\n",
    "df_targets['Probability'] = df_targets['Counts']/df_targets['Chain Length']\n",
    "df_targets.drop(columns=['Counts','Chain Length','HEALPix bin'],inplace=True)\n",
    "df_targets = df_targets[['Probability', 'Galactic Latitude', 'Galactic Longitude', 'Amplitude','Frequency','Frequency Derivative']]\n",
    "df_targets.sort_values(by = 'Probability',ascending = False, inplace=True)\n",
    "df_targets"
   ]
  },
  {
   "cell_type": "markdown",
   "metadata": {},
   "source": [
    "## Make some Cool Skymaps\n",
    "Use the ligo.skymap package to make a neat plot"
   ]
  },
  {
   "cell_type": "code",
   "execution_count": null,
   "metadata": {},
   "outputs": [],
   "source": [
    "# all sky map\n",
    "hpmap = lisacat.HPhist(allSources,nside)\n",
    "fig = plt.figure(figsize=(8, 6), dpi=100)\n",
    "\n",
    "ax = plt.axes(\n",
    "    [0.05, 0.05, 0.9, 0.9],\n",
    "    projection='geo degrees mollweide')\n",
    "ax.grid()\n",
    "ax.imshow_hpx(np.log10(hpmap+1), cmap='plasma')\n"
   ]
  },
  {
   "cell_type": "code",
   "execution_count": null,
   "metadata": {},
   "outputs": [],
   "source": [
    "# A zoom-in map showing the target circle\n",
    "fig = plt.figure(figsize=(6, 6), dpi=100)\n",
    "center = SkyCoord(ra, dec, unit = u.deg)\n",
    "ax = plt.axes(\n",
    "    [0.05, 0.05, 0.9, 0.9],\n",
    "    projection='astro globe',\n",
    "    center=center)\n",
    "\n",
    "ax_inset = plt.axes(\n",
    "    [0.59, 0.3, 0.4, 0.4],\n",
    "    projection='astro zoom',\n",
    "    center=center,\n",
    "    radius=10*u.deg)\n",
    "\n",
    "for key in ['ra', 'dec']:\n",
    "    ax_inset.coords[key].set_ticklabel_visible(False)\n",
    "    ax_inset.coords[key].set_ticks_visible(False)\n",
    "ax.grid()\n",
    "ax.mark_inset_axes(ax_inset)\n",
    "ax.connect_inset_axes(ax_inset, 'upper left')\n",
    "ax.connect_inset_axes(ax_inset, 'lower left')\n",
    "ax_inset.scalebar((0.1, 0.1), 5 * u.deg).label()\n",
    "ax_inset.compass(0.9, 0.1, 0.2)\n",
    "\n",
    "ax.imshow_hpx(np.log10(hpmap+1), cmap='plasma')\n",
    "ax_inset.imshow_hpx(np.log10(hpmap+1), cmap='plasma')\n",
    "ax_inset.add_artist(plt.Circle((center.ra.deg,center.dec.deg),np.rad2deg(radius), fill = False, transform=ax_inset.get_transform('world')))"
   ]
  },
  {
   "cell_type": "code",
   "execution_count": null,
   "metadata": {},
   "outputs": [],
   "source": []
  }
 ],
 "metadata": {
  "kernelspec": {
   "display_name": "Python 3",
   "language": "python",
   "name": "python3"
  },
  "language_info": {
   "codemirror_mode": {
    "name": "ipython",
    "version": 3
   },
   "file_extension": ".py",
   "mimetype": "text/x-python",
   "name": "python",
   "nbconvert_exporter": "python",
   "pygments_lexer": "ipython3",
   "version": "3.7.5"
  }
 },
 "nbformat": 4,
 "nbformat_minor": 4
}
