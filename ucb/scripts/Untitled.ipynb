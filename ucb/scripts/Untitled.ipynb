{
 "cells": [
  {
   "cell_type": "code",
   "execution_count": 1,
   "id": "2d1d67fb",
   "metadata": {},
   "outputs": [],
   "source": [
    "import glob\n",
    "import numpy as np"
   ]
  },
  {
   "cell_type": "code",
   "execution_count": 2,
   "id": "49def1ed",
   "metadata": {},
   "outputs": [],
   "source": [
    "filename = \"/Users/tlittenb/Research/GlobalFit/dev/seg_0100/chains/model_chain.dat.0\""
   ]
  },
  {
   "cell_type": "code",
   "execution_count": 22,
   "id": "d7ecd3bd",
   "metadata": {},
   "outputs": [],
   "source": [
    "import pandas as pd\n",
    "model_chain_burnin = pd.read_csv(filename, sep=' ', header=None)#, names=['dim','logL','a','b'])"
   ]
  },
  {
   "cell_type": "code",
   "execution_count": 23,
   "id": "e8f4576a",
   "metadata": {},
   "outputs": [],
   "source": [
    "model_chain = model_chain_burnin[model_chain_burnin[0]>0]"
   ]
  },
  {
   "cell_type": "code",
   "execution_count": 43,
   "id": "1d50a954",
   "metadata": {},
   "outputs": [
    {
     "data": {
      "text/plain": [
       "10"
      ]
     },
     "execution_count": 43,
     "metadata": {},
     "output_type": "execute_result"
    }
   ],
   "source": [
    "model_chain[1].value_counts().idxmax()"
   ]
  },
  {
   "cell_type": "code",
   "execution_count": null,
   "id": "01f2a906",
   "metadata": {},
   "outputs": [],
   "source": []
  },
  {
   "cell_type": "code",
   "execution_count": null,
   "id": "c29806b5",
   "metadata": {},
   "outputs": [],
   "source": []
  }
 ],
 "metadata": {
  "kernelspec": {
   "display_name": "Python 3 (ipykernel)",
   "language": "python",
   "name": "python3"
  },
  "language_info": {
   "codemirror_mode": {
    "name": "ipython",
    "version": 3
   },
   "file_extension": ".py",
   "mimetype": "text/x-python",
   "name": "python",
   "nbconvert_exporter": "python",
   "pygments_lexer": "ipython3",
   "version": "3.9.12"
  }
 },
 "nbformat": 4,
 "nbformat_minor": 5
}
